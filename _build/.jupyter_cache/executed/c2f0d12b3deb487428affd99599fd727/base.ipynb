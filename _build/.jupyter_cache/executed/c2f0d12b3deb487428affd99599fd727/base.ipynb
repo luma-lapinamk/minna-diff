{
 "cells": [
  {
   "cell_type": "code",
   "execution_count": 1,
   "id": "c1ed2f8b",
   "metadata": {},
   "outputs": [],
   "source": [
    "import numpy as np\n",
    "import matplotlib.pyplot as plt\n",
    "import ipywidgets as widgets\n",
    "\n",
    "\n",
    "def tee_suoran_yhtälön_printtauksen_teksti(kulmakerroin, vakiotermi):\n",
    "    if np.sign(kulmakerroin) > 0:\n",
    "        kulmakertoimen_teksti = ''\n",
    "    else:\n",
    "        kulmakertoimen_teksti = '-'\n",
    "    if np.abs(kulmakerroin) != 1:\n",
    "        kulmakertoimen_teksti += str(np.abs(kulmakerroin))\n",
    "    vakiotermin_teksti = ''\n",
    "    if vakiotermi != 0:\n",
    "        if np.sign(vakiotermi) > 0:\n",
    "            vakiotermin_teksti += '+'\n",
    "        else:\n",
    "            vakiotermin_teksti += '-'\n",
    "        vakiotermin_teksti += str(np.abs(vakiotermi))\n",
    "    return 'y = {}x{}'.format(kulmakertoimen_teksti, vakiotermin_teksti)\n",
    "\n",
    "\n",
    "def suoran_maaritys_ja_plottaus(kulmakerroin, vakiotermi):\n",
    "    x = np.linspace(-5, 5, 100)\n",
    "    y = kulmakerroin*x+vakiotermi\n",
    "    fig, ax = plt.subplots()\n",
    "    ax.plot(x, y, 'r')\n",
    "    ax.grid()\n",
    "    ax.set_xlim([-5, 5])\n",
    "    ax.set_ylim([-5, 5])\n",
    "    ax.set_xlabel(r'$x$')\n",
    "    ax.set_ylabel(r'$y$')\n",
    "    fig.suptitle(tee_suoran_yhtälön_printtauksen_teksti(kulmakerroin, vakiotermi))\n",
    "    \n",
    "    return kulmakerroin, vakiotermi\n",
    "\n",
    "\n",
    "def suoran_maaritys_ja_plottaus_interaktiivisesti():\n",
    "    interactive_plot = widgets.interactive(suoran_maaritys_ja_plottaus,\n",
    "                                           kulmakerroin=widgets.FloatSlider(value=0.1, min=-5, max=5, step=0.1,\n",
    "                                                                              description='kulmakerroin'),\n",
    "                                           vakiotermi=widgets.FloatSlider(value=0.0, min=-5, max=5, step=0.1,\n",
    "                                                                              description='vakiotermi'))\n",
    "                                          \n",
    "    return interactive_plot"
   ]
  }
 ],
 "metadata": {
  "kernelspec": {
   "display_name": "Python 3 (ipykernel)",
   "language": "python",
   "name": "python3"
  },
  "language_info": {
   "codemirror_mode": {
    "name": "ipython",
    "version": 3
   },
   "file_extension": ".py",
   "mimetype": "text/x-python",
   "name": "python",
   "nbconvert_exporter": "python",
   "pygments_lexer": "ipython3",
   "version": "3.9.7"
  }
 },
 "nbformat": 4,
 "nbformat_minor": 5
}